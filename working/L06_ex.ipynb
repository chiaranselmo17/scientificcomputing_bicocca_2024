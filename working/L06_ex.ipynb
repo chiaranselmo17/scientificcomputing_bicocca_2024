{
 "cells": [
  {
   "cell_type": "markdown",
   "id": "3a48f2ac-81cb-40a0-b076-69a1a18f5dd6",
   "metadata": {},
   "source": [
    "### Q2 : Egocentric"
   ]
  },
  {
   "cell_type": "markdown",
   "id": "c10dea22-b7f9-4590-a2c2-e0fb783d87ec",
   "metadata": {},
   "source": [
    "I wrote the following action:"
   ]
  },
  {
   "cell_type": "raw",
   "id": "bb84a581-3914-4b4e-9bf0-d43da0a08426",
   "metadata": {},
   "source": [
    "name: Egocentric commit action\n",
    "on: [push]\n",
    "jobs:\n",
    "  check-readme:\n",
    "    runs-on: ubuntu-latest\n",
    "    steps:\n",
    "      - name: Check out repository code\n",
    "        uses: actions/checkout@v4\n",
    "      \n",
    "      - name: Check if README.md contains my name\n",
    "        run: |\n",
    "          if ! grep -q \"Chiara\" README.md; then\n",
    "            echo \"Chiara is not in README.md... :( Push rejected.\"\n",
    "            exit 1\n",
    "          else\n",
    "            echo \"README.md contains my name! :)\"\n",
    "          fi\n",
    "      - run: echo \"🍏 This job's status is ${{ job.status }}.\""
   ]
  },
  {
   "cell_type": "markdown",
   "id": "b1cb4771-0cba-427f-8c73-77b39fba7690",
   "metadata": {},
   "source": [
    "The result is available at: https://github.com/chiaranselmo17/ilovegit/actions/workflows/myaction.yml"
   ]
  },
  {
   "cell_type": "markdown",
   "id": "80600645-9caf-4e66-a574-a6ffb39b752d",
   "metadata": {},
   "source": [
    "### Q4 : You're wrong"
   ]
  },
  {
   "cell_type": "markdown",
   "id": "c26f15f8-d55a-4260-9de1-88fd66bd28ed",
   "metadata": {},
   "source": [
    "You accepted my pull request a while ago..."
   ]
  }
 ],
 "metadata": {
  "kernelspec": {
   "display_name": "Python 3 (ipykernel)",
   "language": "python",
   "name": "python3"
  },
  "language_info": {
   "codemirror_mode": {
    "name": "ipython",
    "version": 3
   },
   "file_extension": ".py",
   "mimetype": "text/x-python",
   "name": "python",
   "nbconvert_exporter": "python",
   "pygments_lexer": "ipython3",
   "version": "3.12.7"
  }
 },
 "nbformat": 4,
 "nbformat_minor": 5
}
