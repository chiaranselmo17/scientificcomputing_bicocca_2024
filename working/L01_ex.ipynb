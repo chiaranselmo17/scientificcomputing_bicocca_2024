{
 "cells": [
  {
   "cell_type": "code",
   "execution_count": 1,
   "id": "e3f7da38-a293-4c9f-975b-82f719cb7791",
   "metadata": {},
   "outputs": [],
   "source": [
    "import random as rnd"
   ]
  },
  {
   "cell_type": "markdown",
   "id": "0554f03f-4ffa-4d23-89c0-cef0ca639903",
   "metadata": {},
   "source": [
    "### Q2 : Iterations"
   ]
  },
  {
   "cell_type": "code",
   "execution_count": 2,
   "id": "c59caaca-d576-47bc-a606-16c94b42aca3",
   "metadata": {},
   "outputs": [
    {
     "name": "stdout",
     "output_type": "stream",
     "text": [
      "Mary is 21 years old.\n",
      "John is 56 years old.\n",
      "Sarah is 98 years old.\n"
     ]
    }
   ],
   "source": [
    "# Part 1\n",
    "\n",
    "names = [\"Mary\", \"John\", \"Sarah\"]\n",
    "ages = [21, 56, 98]\n",
    "\n",
    "for n,a in zip(names, ages):\n",
    "    print(f\"{n} is {a} years old.\")"
   ]
  },
  {
   "cell_type": "code",
   "execution_count": 3,
   "id": "89adb7b1-8621-47b4-a0dd-b51ac9b06670",
   "metadata": {},
   "outputs": [
    {
     "name": "stdout",
     "output_type": "stream",
     "text": [
      "Not a match: 6 and 0.\n",
      "Not a match: 9 and 1.\n",
      "Not a match: 4 and 2.\n",
      "Not a match: 0 and 3.\n",
      "Not a match: 6 and 4.\n",
      "Not a match: 9 and 5.\n",
      "Not a match: 5 and 6.\n",
      "Not a match: 6 and 7.\n",
      "Not a match: 9 and 8.\n",
      "Not a match: 7 and 9.\n"
     ]
    }
   ],
   "source": [
    "# Part 2\n",
    "\n",
    "# generate list of 10 random integer numbers\n",
    "random_list = [rnd.randint(0, 9) for i in range(10)]\n",
    "\n",
    "# check for matches between number and corresponding index in the list\n",
    "for index,number in enumerate(random_list):\n",
    "    if index==number:\n",
    "        print(f\"Match: {number} and {index}.\")\n",
    "    else:\n",
    "        print(f\"Not a match: {number} and {index}.\")"
   ]
  },
  {
   "cell_type": "markdown",
   "id": "f18f08a3-771a-46ed-850a-08386f80da1e",
   "metadata": {},
   "source": [
    "### Q7 : Tic-tac-toe"
   ]
  },
  {
   "cell_type": "code",
   "execution_count": 4,
   "id": "6a74e6f0-91e2-48be-9bf1-2f5027609a00",
   "metadata": {},
   "outputs": [],
   "source": [
    "board = \"\"\"\n",
    " {s1:^3} | {s2:^3} | {s3:^3}\n",
    "-----+-----+-----\n",
    " {s4:^3} | {s5:^3} | {s6:^3}\n",
    "-----+-----+-----      123\n",
    " {s7:^3} | {s8:^3} | {s9:^3}       456\n",
    "                       789  \n",
    "\"\"\""
   ]
  },
  {
   "cell_type": "code",
   "execution_count": 5,
   "id": "1795067c-7c69-411d-98b2-c7fa2a7084a1",
   "metadata": {},
   "outputs": [
    {
     "data": {
      "text/plain": [
       "{'s1': '',\n",
       " 's2': '',\n",
       " 's3': '',\n",
       " 's4': '',\n",
       " 's5': '',\n",
       " 's6': '',\n",
       " 's7': '',\n",
       " 's8': '',\n",
       " 's9': ''}"
      ]
     },
     "execution_count": 5,
     "metadata": {},
     "output_type": "execute_result"
    }
   ],
   "source": [
    "play = {}\n",
    "\n",
    "def initialize_board(play):\n",
    "    for n in range(9):\n",
    "        play[\"s{}\".format(n+1)] = \"\"\n",
    "\n",
    "initialize_board(play)\n",
    "play"
   ]
  },
  {
   "cell_type": "code",
   "execution_count": 6,
   "id": "e6cd4616-cd57-4688-b581-541fa8b6031a",
   "metadata": {},
   "outputs": [
    {
     "name": "stdout",
     "output_type": "stream",
     "text": [
      "\n",
      "     |     |    \n",
      "-----+-----+-----\n",
      "     |     |    \n",
      "-----+-----+-----      123\n",
      "     |     |           456\n",
      "                       789  \n",
      "\n"
     ]
    }
   ],
   "source": [
    "def show_board(play):\n",
    "    \"\"\" display the playing board.  We take a dictionary with the current state of the board\n",
    "    We rely on the board string to be a global variable\"\"\"\n",
    "    print(board.format(**play))\n",
    "    \n",
    "show_board(play)"
   ]
  },
  {
   "cell_type": "code",
   "execution_count": 7,
   "id": "a261394a-47bb-40ae-b1dc-ec072c6146d1",
   "metadata": {},
   "outputs": [],
   "source": [
    "def get_move(n, xo, play):\n",
    "    \"\"\" ask the current player, n, to make a move -- make sure the square was not \n",
    "        already played.  xo is a string of the character (x or o) we will place in\n",
    "        the desired square \"\"\"\n",
    "    valid_move = False\n",
    "    while not valid_move:\n",
    "        idx = input(\"player {}, enter your move (1-9)\".format(n))\n",
    "        try:\n",
    "            int(idx)\n",
    "        except:\n",
    "            print(\"You must type an integer between 1 and 9!\")\n",
    "            continue\n",
    "        if int(idx) not in range(1,10):\n",
    "            print(\"You must type an integer between 1 and 9!\")\n",
    "            continue\n",
    "        else:\n",
    "            if play[\"s{}\".format(idx)] == \"\":\n",
    "                valid_move = True\n",
    "            else:\n",
    "                print(\"invalid: {}\".format(play[\"s{}\".format(idx)]))\n",
    "            \n",
    "    play[\"s{}\".format(idx)] = xo"
   ]
  },
  {
   "cell_type": "code",
   "execution_count": 8,
   "id": "64b852d2-8779-442b-a10c-6a0b9e2a3a5d",
   "metadata": {},
   "outputs": [],
   "source": [
    "# set winning conditions\n",
    "def win_cond(xo, play):\n",
    "    xos = [xo, xo, xo]\n",
    "    if [play[\"s1\"], play[\"s2\"], play[\"s3\"]] == xos or [play[\"s4\"], play[\"s5\"], play[\"s6\"]] == xos or [play[\"s7\"], play[\"s8\"], play[\"s9\"]] == xos:\n",
    "        return True\n",
    "    elif [play[\"s1\"], play[\"s4\"], play[\"s7\"]] == xos or [play[\"s2\"], play[\"s5\"], play[\"s8\"]] == xos or [play[\"s3\"], play[\"s6\"], play[\"s9\"]] == xos:\n",
    "        return True\n",
    "    elif [play[\"s1\"], play[\"s5\"], play[\"s9\"]] == xos or [play[\"s3\"], play[\"s5\"], play[\"s7\"]] == xos:\n",
    "        return True\n",
    "    else:\n",
    "        return False"
   ]
  },
  {
   "cell_type": "code",
   "execution_count": 9,
   "id": "7622e238-06ee-41e9-b99f-ed3a3107ec40",
   "metadata": {},
   "outputs": [],
   "source": [
    "# routine for one game session\n",
    "def play_game():\n",
    "    \"\"\" Play a game of tic-tac-toe! Player 1 will write x's, player 2 o's.\"\"\"\n",
    "    player_xo = {\"x\":1, \"o\":2}\n",
    "    \n",
    "    play ={}\n",
    "    initialize_board(play)\n",
    "    show_board(play)\n",
    "\n",
    "    t = 1\n",
    "    while t < 6:\n",
    "        print(f\"Turn {t}, \")\n",
    "        for key in player_xo.keys():\n",
    "            if \"\" in play.values():\n",
    "                get_move(player_xo[key], key, play)\n",
    "                show_board(play)\n",
    "                if win_cond(key, play) == True:\n",
    "                    return f\"Congrats player {player_xo[key]}!\"\n",
    "            else:\n",
    "                print(\"No more space on the board. It's a tie!\")\n",
    "        t += 1"
   ]
  },
  {
   "cell_type": "code",
   "execution_count": 10,
   "id": "f3748785-8bf2-47be-89f6-6a3ad775cdf8",
   "metadata": {},
   "outputs": [
    {
     "name": "stdout",
     "output_type": "stream",
     "text": [
      "\n",
      "     |     |    \n",
      "-----+-----+-----\n",
      "     |     |    \n",
      "-----+-----+-----      123\n",
      "     |     |           456\n",
      "                       789  \n",
      "\n",
      "Turn 1, \n"
     ]
    },
    {
     "name": "stdin",
     "output_type": "stream",
     "text": [
      "player 1, enter your move (1-9) 2\n"
     ]
    },
    {
     "name": "stdout",
     "output_type": "stream",
     "text": [
      "\n",
      "     |  x  |    \n",
      "-----+-----+-----\n",
      "     |     |    \n",
      "-----+-----+-----      123\n",
      "     |     |           456\n",
      "                       789  \n",
      "\n"
     ]
    },
    {
     "name": "stdin",
     "output_type": "stream",
     "text": [
      "player 2, enter your move (1-9) 16\n"
     ]
    },
    {
     "name": "stdout",
     "output_type": "stream",
     "text": [
      "You must type an integer between 1 and 9!\n"
     ]
    },
    {
     "name": "stdin",
     "output_type": "stream",
     "text": [
      "player 2, enter your move (1-9) ciao\n"
     ]
    },
    {
     "name": "stdout",
     "output_type": "stream",
     "text": [
      "You must type an integer between 1 and 9!\n"
     ]
    },
    {
     "name": "stdin",
     "output_type": "stream",
     "text": [
      "player 2, enter your move (1-9) 3\n"
     ]
    },
    {
     "name": "stdout",
     "output_type": "stream",
     "text": [
      "\n",
      "     |  x  |  o \n",
      "-----+-----+-----\n",
      "     |     |    \n",
      "-----+-----+-----      123\n",
      "     |     |           456\n",
      "                       789  \n",
      "\n",
      "Turn 2, \n"
     ]
    },
    {
     "name": "stdin",
     "output_type": "stream",
     "text": [
      "player 1, enter your move (1-9) 5\n"
     ]
    },
    {
     "name": "stdout",
     "output_type": "stream",
     "text": [
      "\n",
      "     |  x  |  o \n",
      "-----+-----+-----\n",
      "     |  x  |    \n",
      "-----+-----+-----      123\n",
      "     |     |           456\n",
      "                       789  \n",
      "\n"
     ]
    },
    {
     "name": "stdin",
     "output_type": "stream",
     "text": [
      "player 2, enter your move (1-9) 1\n"
     ]
    },
    {
     "name": "stdout",
     "output_type": "stream",
     "text": [
      "\n",
      "  o  |  x  |  o \n",
      "-----+-----+-----\n",
      "     |  x  |    \n",
      "-----+-----+-----      123\n",
      "     |     |           456\n",
      "                       789  \n",
      "\n",
      "Turn 3, \n"
     ]
    },
    {
     "name": "stdin",
     "output_type": "stream",
     "text": [
      "player 1, enter your move (1-9) 8\n"
     ]
    },
    {
     "name": "stdout",
     "output_type": "stream",
     "text": [
      "\n",
      "  o  |  x  |  o \n",
      "-----+-----+-----\n",
      "     |  x  |    \n",
      "-----+-----+-----      123\n",
      "     |  x  |           456\n",
      "                       789  \n",
      "\n"
     ]
    },
    {
     "data": {
      "text/plain": [
       "'Congrats player 1!'"
      ]
     },
     "execution_count": 10,
     "metadata": {},
     "output_type": "execute_result"
    }
   ],
   "source": [
    "play_game()"
   ]
  }
 ],
 "metadata": {
  "kernelspec": {
   "display_name": "Python 3 (ipykernel)",
   "language": "python",
   "name": "python3"
  },
  "language_info": {
   "codemirror_mode": {
    "name": "ipython",
    "version": 3
   },
   "file_extension": ".py",
   "mimetype": "text/x-python",
   "name": "python",
   "nbconvert_exporter": "python",
   "pygments_lexer": "ipython3",
   "version": "3.12.7"
  }
 },
 "nbformat": 4,
 "nbformat_minor": 5
}
