{
 "cells": [
  {
   "cell_type": "code",
   "execution_count": 1,
   "id": "0f3b04f1-2ba8-4465-8d76-bdc38da5e6e4",
   "metadata": {},
   "outputs": [],
   "source": [
    "import numpy as np\n",
    "import matplotlib.pyplot as plt"
   ]
  },
  {
   "cell_type": "markdown",
   "id": "3f9028c7-9eab-47c0-affe-7218d85dba45",
   "metadata": {
    "jp-MarkdownHeadingCollapsed": true
   },
   "source": [
    "### Q1 : I love pip"
   ]
  },
  {
   "cell_type": "markdown",
   "id": "5bbf6842-eac6-473b-8530-72dbea025b96",
   "metadata": {},
   "source": [
    "I created a module with an implementation of the tic-tac-toe game (exercise from lecture 1) following this tutorial:\\\n",
    "https://packaging.python.org/en/latest/tutorials/packaging-projects/\n",
    "\n",
    "The resulting package is available at: https://test.pypi.org/project/example-package-chiaranselmo/0.0.1/\n",
    "\n",
    "I installed it on my laptop with the command:"
   ]
  },
  {
   "cell_type": "raw",
   "id": "5bf17e4a-ee7d-4b80-87d8-884c6112b17b",
   "metadata": {},
   "source": [
    "pip install -i https://test.pypi.org/simple/ example-package-chiaranselmo==0.0.1"
   ]
  },
  {
   "cell_type": "markdown",
   "id": "0c5b03eb-7925-453b-9137-53e71073d1cf",
   "metadata": {},
   "source": [
    "So now I can import it and use it"
   ]
  },
  {
   "cell_type": "code",
   "execution_count": 1,
   "id": "0650c684-0350-4c96-9cea-33c361787614",
   "metadata": {},
   "outputs": [],
   "source": [
    "from example_package_chiaranselmo import example"
   ]
  },
  {
   "cell_type": "code",
   "execution_count": 2,
   "id": "9c7013a2-4b3b-4e6f-8d06-fda3242bbecf",
   "metadata": {},
   "outputs": [
    {
     "name": "stdout",
     "output_type": "stream",
     "text": [
      "\n",
      "        |     |    \n",
      "    -----+-----+-----\n",
      "        |     |    \n",
      "    -----+-----+-----      \n",
      "        |     |           \n",
      "                         \n",
      "    \n",
      "Turn 1, \n"
     ]
    },
    {
     "name": "stdin",
     "output_type": "stream",
     "text": [
      "player 1, enter your move (1-9) 5\n"
     ]
    },
    {
     "name": "stdout",
     "output_type": "stream",
     "text": [
      "\n",
      "        |     |    \n",
      "    -----+-----+-----\n",
      "        |  x  |    \n",
      "    -----+-----+-----      \n",
      "        |     |           \n",
      "                         \n",
      "    \n"
     ]
    },
    {
     "name": "stdin",
     "output_type": "stream",
     "text": [
      "player 2, enter your move (1-9) noooooo\n"
     ]
    },
    {
     "name": "stdout",
     "output_type": "stream",
     "text": [
      "You must type an integer between 1 and 9!\n"
     ]
    },
    {
     "name": "stdin",
     "output_type": "stream",
     "text": [
      "player 2, enter your move (1-9) 1\n"
     ]
    },
    {
     "name": "stdout",
     "output_type": "stream",
     "text": [
      "\n",
      "     o  |     |    \n",
      "    -----+-----+-----\n",
      "        |  x  |    \n",
      "    -----+-----+-----      \n",
      "        |     |           \n",
      "                         \n",
      "    \n",
      "Turn 2, \n"
     ]
    },
    {
     "name": "stdin",
     "output_type": "stream",
     "text": [
      "player 1, enter your move (1-9) 6\n"
     ]
    },
    {
     "name": "stdout",
     "output_type": "stream",
     "text": [
      "\n",
      "     o  |     |    \n",
      "    -----+-----+-----\n",
      "        |  x  |  x \n",
      "    -----+-----+-----      \n",
      "        |     |           \n",
      "                         \n",
      "    \n"
     ]
    },
    {
     "name": "stdin",
     "output_type": "stream",
     "text": [
      "player 2, enter your move (1-9) 4\n"
     ]
    },
    {
     "name": "stdout",
     "output_type": "stream",
     "text": [
      "\n",
      "     o  |     |    \n",
      "    -----+-----+-----\n",
      "     o  |  x  |  x \n",
      "    -----+-----+-----      \n",
      "        |     |           \n",
      "                         \n",
      "    \n",
      "Turn 3, \n"
     ]
    },
    {
     "name": "stdin",
     "output_type": "stream",
     "text": [
      "player 1, enter your move (1-9) 7\n"
     ]
    },
    {
     "name": "stdout",
     "output_type": "stream",
     "text": [
      "\n",
      "     o  |     |    \n",
      "    -----+-----+-----\n",
      "     o  |  x  |  x \n",
      "    -----+-----+-----      \n",
      "     x  |     |           \n",
      "                         \n",
      "    \n"
     ]
    },
    {
     "name": "stdin",
     "output_type": "stream",
     "text": [
      "player 2, enter your move (1-9) 2\n"
     ]
    },
    {
     "name": "stdout",
     "output_type": "stream",
     "text": [
      "\n",
      "     o  |  o  |    \n",
      "    -----+-----+-----\n",
      "     o  |  x  |  x \n",
      "    -----+-----+-----      \n",
      "     x  |     |           \n",
      "                         \n",
      "    \n",
      "Turn 4, \n"
     ]
    },
    {
     "name": "stdin",
     "output_type": "stream",
     "text": [
      "player 1, enter your move (1-9) 3\n"
     ]
    },
    {
     "name": "stdout",
     "output_type": "stream",
     "text": [
      "\n",
      "     o  |  o  |  x \n",
      "    -----+-----+-----\n",
      "     o  |  x  |  x \n",
      "    -----+-----+-----      \n",
      "     x  |     |           \n",
      "                         \n",
      "    \n"
     ]
    },
    {
     "data": {
      "text/plain": [
       "'Congrats player 1!'"
      ]
     },
     "execution_count": 2,
     "metadata": {},
     "output_type": "execute_result"
    }
   ],
   "source": [
    "example.play_game()"
   ]
  },
  {
   "cell_type": "markdown",
   "id": "3f8a5c63-1a2c-4ea7-a52e-46548f044d2e",
   "metadata": {},
   "source": [
    "### Q4: It's over Anakin, I have the high ground. I hate you!"
   ]
  },
  {
   "cell_type": "code",
   "execution_count": 2,
   "id": "dded8dcb-8735-44c9-9908-d292e9cf9ac6",
   "metadata": {},
   "outputs": [],
   "source": [
    "import cProfile"
   ]
  },
  {
   "cell_type": "code",
   "execution_count": 3,
   "id": "7b9f34c0-d653-4803-9877-1fabded13266",
   "metadata": {},
   "outputs": [],
   "source": [
    "# Piece of \"bad\" code; I define a function that computes some operations between two matrices without using numpy (and with many loops!)\n",
    "\n",
    "def normalize_matrix(matrix):\n",
    "    # Compute the sum of all elements in the matrix\n",
    "    total = sum(sum(row) for row in matrix)\n",
    "    # Divide each element by the total\n",
    "    return [[element / total for element in row] for row in matrix]\n",
    "\n",
    "def add_matrices(matrix_a, matrix_b):\n",
    "    # Element-wise addition of two matrices\n",
    "    if len(matrix_a) != len(matrix_b) or len(matrix_a[0]) != len(matrix_b[0]):\n",
    "        raise ValueError(\"Matrices must have the same dimensions for addition!\")\n",
    "    \n",
    "    return [\n",
    "        [matrix_a[i][j] + matrix_b[i][j] for j in range(len(matrix_a[0]))]\n",
    "        for i in range(len(matrix_a))\n",
    "    ]\n",
    "\n",
    "def multiply_matrices(matrix_a, matrix_b):\n",
    "    # Matrix multiplication\n",
    "    if len(matrix_a[0]) != len(matrix_b):\n",
    "        raise ValueError(\"Cannot multiply matrices: number of columns in A must equal number of rows in B!\")\n",
    "    \n",
    "    result = [[0 for _ in range(len(matrix_b[0]))] for _ in range(len(matrix_a))]\n",
    "    for i in range(len(matrix_a)):\n",
    "        for j in range(len(matrix_b[0])):\n",
    "            for k in range(len(matrix_b)):\n",
    "                result[i][j] += matrix_a[i][k] * matrix_b[k][j]\n",
    "    return result\n",
    "\n",
    "def divide_matrix(matrix, divisor):\n",
    "    # Divide each element of the matrix by the divisor\n",
    "    return [[element / divisor for element in row] for row in matrix]\n",
    "\n",
    "def square_matrix(matrix):\n",
    "    # Element-wise squaring of the matrix\n",
    "    return [[element ** 2 for element in row] for row in matrix]\n",
    "\n",
    "def transpose_matrix(matrix):\n",
    "    # Transpose the matrix\n",
    "    return [[matrix[j][i] for j in range(len(matrix))] for i in range(len(matrix[0]))]\n",
    "\n",
    "def process_matrices(matrix_a, matrix_b):\n",
    "    # Step 1: Normalize matrices A and B\n",
    "    matrix_a_norm = normalize_matrix(matrix_a)\n",
    "    matrix_b_norm = normalize_matrix(matrix_b)\n",
    "    \n",
    "    # Step 2: Compute (A + B) * A / 2\n",
    "    matrix_sum = add_matrices(matrix_a_norm, matrix_b_norm)\n",
    "    matrix_product = multiply_matrices(matrix_sum, matrix_a_norm)\n",
    "    matrix_c = divide_matrix(matrix_product, 2)\n",
    "    \n",
    "    # Step 3: Compute C^2 (element-wise square)\n",
    "    matrix_c_squared = square_matrix(matrix_c)\n",
    "    \n",
    "    # Step 4: Transpose C^2\n",
    "    result = transpose_matrix(matrix_c_squared)\n",
    "    \n",
    "    return result"
   ]
  },
  {
   "cell_type": "code",
   "execution_count": 4,
   "id": "e45870aa-38a9-4e38-abac-4db40e09e1a9",
   "metadata": {},
   "outputs": [],
   "source": [
    "# Example\n",
    "\n",
    "nrow = 300\n",
    "ncol = 300\n",
    "\n",
    "matrix_a = [[j+ncol*i for j in range(ncol)] for i in range(nrow)]\n",
    "\n",
    "matrix_b = [[j*ncol+i for j in range(ncol)] for i in range(nrow)]\n",
    "\n",
    "#%timeit process_matrices(matrix_a, matrix_b)"
   ]
  },
  {
   "cell_type": "markdown",
   "id": "5d597f15-8ed6-47c0-852a-ec79a3e12327",
   "metadata": {},
   "source": [
    "It took around 3 s to run. Let's see how this time is distributed:"
   ]
  },
  {
   "cell_type": "code",
   "execution_count": 5,
   "id": "f2364f4f-d656-40cd-a9df-9c0eae1832fa",
   "metadata": {},
   "outputs": [
    {
     "name": "stdout",
     "output_type": "stream",
     "text": [
      "         92580 function calls (91977 primitive calls) in 7.714 seconds\n",
      "\n",
      "   Ordered by: cumulative time\n",
      "\n",
      "   ncalls  tottime  percall  cumtime  percall filename:lineno(function)\n",
      "        1    0.000    0.000    4.363    4.363 {built-in method builtins.exec}\n",
      "        1    0.014    0.014    4.363    4.363 <string>:1(<module>)\n",
      "        1    0.000    0.000    4.349    4.349 3345820199.py:43(process_matrices)\n",
      "        1    4.265    4.265    4.283    4.283 3345820199.py:19(multiply_matrices)\n",
      "        2    0.000    0.000    3.332    1.666 base_events.py:1909(_run_once)\n",
      "        2    0.000    0.000    3.332    1.666 windows_events.py:443(select)\n",
      "        2    3.280    1.640    3.294    1.647 windows_events.py:761(_poll)\n",
      "        1    0.037    0.037    0.037    0.037 3345820199.py:35(square_matrix)\n",
      "    91218    0.032    0.000    0.032    0.000 {built-in method builtins.len}\n",
      "        2    0.025    0.013    0.025    0.013 3345820199.py:3(normalize_matrix)\n",
      "        1    0.024    0.024    0.024    0.024 3345820199.py:9(add_matrices)\n",
      "        1    0.017    0.017    0.017    0.017 3345820199.py:31(divide_matrix)\n",
      "        1    0.012    0.012    0.012    0.012 3345820199.py:39(transpose_matrix)\n",
      "    602/2    0.005    0.000    0.005    0.003 {built-in method builtins.sum}\n",
      "      602    0.000    0.000    0.005    0.000 3345820199.py:5(<genexpr>)\n",
      "        2    0.001    0.000    0.003    0.001 {method '__exit__' of 'sqlite3.Connection' objects}\n",
      "        2    0.000    0.000    0.000    0.000 traitlets.py:708(__set__)\n",
      "        2    0.000    0.000    0.000    0.000 traitlets.py:3631(set)\n",
      "        2    0.000    0.000    0.000    0.000 events.py:86(_run)\n",
      "        1    0.000    0.000    0.000    0.000 {method 'disable' of '_lsprof.Profiler' objects}\n",
      "        2    0.000    0.000    0.000    0.000 {method 'run' of '_contextvars.Context' objects}\n",
      "        2    0.000    0.000    0.000    0.000 traitlets.py:689(set)\n",
      "        1    0.000    0.000    0.000    0.000 iostream.py:117(_run_event_pipe_gc)\n",
      "        2    0.000    0.000    0.000    0.000 traitlets.py:718(_validate)\n",
      "        2    0.000    0.000    0.000    0.000 tasks.py:653(sleep)\n",
      "        1    0.000    0.000    0.000    0.000 queues.py:225(get)\n",
      "        2    0.000    0.000    0.000    0.000 traitlets.py:727(_cross_validate)\n",
      "        1    0.000    0.000    0.000    0.000 traitlets.py:1512(_notify_trait)\n",
      "        2    0.000    0.000    0.000    0.000 traitlets.py:3474(validate)\n",
      "        1    0.000    0.000    0.000    0.000 iostream.py:126(_event_pipe_gc)\n",
      "        1    0.000    0.000    0.000    0.000 futures.py:315(_set_result_unless_cancelled)\n",
      "        1    0.000    0.000    0.000    0.000 base_events.py:743(call_later)\n",
      "        1    0.000    0.000    0.000    0.000 traitlets.py:1523(notify_change)\n",
      "        1    0.000    0.000    0.000    0.000 traitlets.py:1527(_notify_observers)\n",
      "        1    0.000    0.000    0.000    0.000 base_events.py:767(call_at)\n",
      "        1    0.000    0.000    0.000    0.000 {method 'set_result' of '_asyncio.Future' objects}\n",
      "        1    0.000    0.000    0.000    0.000 queues.py:256(get_nowait)\n",
      "        2    0.000    0.000    0.000    0.000 threading.py:1222(is_alive)\n",
      "        2    0.000    0.000    0.000    0.000 traitlets.py:3624(validate_elements)\n",
      "        1    0.000    0.000    0.000    0.000 base_events.py:785(call_soon)\n",
      "        1    0.000    0.000    0.000    0.000 history.py:839(_writeout_output_cache)\n",
      "        1    0.000    0.000    0.000    0.000 events.py:111(__init__)\n",
      "        5    0.000    0.000    0.000    0.000 {built-in method builtins.hasattr}\n",
      "        2    0.000    0.000    0.000    0.000 events.py:36(__init__)\n",
      "        4    0.000    0.000    0.000    0.000 base_events.py:734(time)\n",
      "        1    0.000    0.000    0.000    0.000 events.py:155(cancel)\n",
      "        1    0.000    0.000    0.000    0.000 queues.py:173(qsize)\n",
      "        2    0.000    0.000    0.000    0.000 traitlets.py:676(__get__)\n",
      "        1    0.000    0.000    0.000    0.000 base_events.py:814(_call_soon)\n",
      "        2    0.000    0.000    0.000    0.000 traitlets.py:2304(validate)\n",
      "        1    0.000    0.000    0.000    0.000 {built-in method _thread.allocate_lock}\n",
      "        2    0.000    0.000    0.000    0.000 threading.py:1155(_wait_for_tstate_lock)\n",
      "        1    0.000    0.000    0.000    0.000 base_events.py:447(create_future)\n",
      "        7    0.000    0.000    0.000    0.000 {built-in method builtins.isinstance}\n",
      "        4    0.000    0.000    0.000    0.000 {method 'append' of 'collections.deque' objects}\n",
      "        1    0.000    0.000    0.000    0.000 threading.py:314(_is_owned)\n",
      "        1    0.000    0.000    0.000    0.000 threading.py:299(__enter__)\n",
      "        2    0.000    0.000    0.000    0.000 traitlets.py:629(get)\n",
      "        3    0.000    0.000    0.000    0.000 {method '__exit__' of '_thread.lock' objects}\n",
      "        2    0.000    0.000    0.000    0.000 traitlets.py:3486(validate_elements)\n",
      "        4    0.000    0.000    0.000    0.000 {method 'get' of 'dict' objects}\n",
      "        2    0.000    0.000    0.000    0.000 {method 'clear' of 'list' objects}\n",
      "        1    0.000    0.000    0.000    0.000 threading.py:308(_release_save)\n",
      "        1    0.000    0.000    0.000    0.000 {built-in method builtins.max}\n",
      "        4    0.000    0.000    0.000    0.000 {built-in method time.monotonic}\n",
      "       14    0.000    0.000    0.000    0.000 typing.py:2182(cast)\n",
      "      4/2    0.000    0.000    0.000    0.000 {method 'acquire' of '_thread.lock' objects}\n",
      "        5    0.000    0.000    0.000    0.000 base_events.py:2004(get_debug)\n",
      "        1    0.000    0.000    0.000    0.000 events.py:72(cancel)\n",
      "        2    0.000    0.000    0.000    0.000 {built-in method math.ceil}\n",
      "        1    0.000    0.000    0.000    0.000 queues.py:322(_consume_expired)\n",
      "        1    0.000    0.000    0.000    0.000 {built-in method _heapq.heappush}\n",
      "        1    0.000    0.000    0.000    0.000 {built-in method _asyncio.get_running_loop}\n",
      "        2    0.000    0.000    0.000    0.000 {method 'popleft' of 'collections.deque' objects}\n",
      "        1    0.000    0.000    0.000    0.000 {built-in method builtins.min}\n",
      "        2    0.000    0.000    0.000    0.000 {method 'extend' of 'list' objects}\n",
      "        1    0.000    0.000    0.000    0.000 {built-in method _heapq.heappop}\n",
      "        1    0.000    0.000    0.000    0.000 {method '__enter__' of '_thread.lock' objects}\n",
      "        1    0.000    0.000    0.000    0.000 {built-in method _contextvars.copy_context}\n",
      "        1    0.000    0.000    0.000    0.000 {method 'items' of 'dict' objects}\n",
      "        1    0.000    0.000    0.000    0.000 {method 'cancelled' of '_asyncio.Future' objects}\n",
      "        2    0.000    0.000    0.000    0.000 threading.py:601(is_set)\n",
      "        2    0.000    0.000    0.000    0.000 base_events.py:539(_check_closed)\n",
      "        2    0.000    0.000    0.000    0.000 proactor_events.py:883(_process_events)\n",
      "        1    0.000    0.000    0.000    0.000 {method 'release' of '_thread.lock' objects}\n",
      "        1    0.000    0.000    0.000    0.000 base_events.py:1904(_timer_handle_cancelled)\n",
      "        1    0.000    0.000    0.000    0.000 queues.py:59(_set_timeout)\n",
      "      1/0    0.000    0.000    0.000          {built-in method _overlapped.GetQueuedCompletionStatus}\n",
      "\n",
      "\n"
     ]
    }
   ],
   "source": [
    "cProfile.run('process_matrices(matrix_a, matrix_b)', sort='cumtime')"
   ]
  },
  {
   "cell_type": "code",
   "execution_count": 6,
   "id": "ac0cd629-3c35-4276-b1b0-bd26e244397e",
   "metadata": {},
   "outputs": [],
   "source": [
    "'''\n",
    "with cProfile.Profile() as pr:\n",
    "    process_matrices(matrix_a, matrix_b)  \n",
    "\n",
    "pr.dump_stats('example.prof')\n",
    "''';"
   ]
  },
  {
   "cell_type": "markdown",
   "id": "2b1fee26-c2c1-46b1-b1e0-83aeaaecb60d",
   "metadata": {},
   "source": [
    "*multiply_matrices* is the single function that takes the longest; I will try and optimize that first to see what changes:"
   ]
  },
  {
   "cell_type": "code",
   "execution_count": 7,
   "id": "f742d8d6-90cb-4b95-8897-26df0b9b2c8c",
   "metadata": {},
   "outputs": [],
   "source": [
    "def multiply_matrices_2(matrix_a, matrix_b):\n",
    "    # Improved matrix multiplication\n",
    "    rows_a, cols_a = len(matrix_a), len(matrix_a[0])\n",
    "    rows_b, cols_b = len(matrix_b), len(matrix_b[0])\n",
    "    \n",
    "    if cols_a != rows_b:\n",
    "        raise ValueError(\"Cannot multiply matrices: number of columns in A must equal number of rows in B!\")\n",
    "    \n",
    "    # Initialize result matrix\n",
    "    result = [[0 for _ in range(cols_b)] for _ in range(rows_a)]\n",
    "    \n",
    "    # Perform matrix multiplication\n",
    "    for i in range(rows_a):\n",
    "        row_a = matrix_a[i]  # Cache the current row of matrix_a\n",
    "        for j in range(cols_b):\n",
    "            sum_product = 0  # Accumulate the product for this cell\n",
    "            for k in range(cols_a):\n",
    "                sum_product += row_a[k] * matrix_b[k][j]\n",
    "            result[i][j] = sum_product\n",
    "    \n",
    "    return result\n",
    "\n",
    "def process_matrices_2(matrix_a, matrix_b):\n",
    "    # Step 1: Normalize matrices A and B\n",
    "    matrix_a_norm = normalize_matrix(matrix_a)\n",
    "    matrix_b_norm = normalize_matrix(matrix_b)\n",
    "    \n",
    "    # Step 2: Compute (A + B) * A / 2\n",
    "    matrix_sum = add_matrices(matrix_a_norm, matrix_b_norm)\n",
    "    matrix_product = multiply_matrices_2(matrix_sum, matrix_a_norm)\n",
    "    matrix_c = divide_matrix(matrix_product, 2)\n",
    "    \n",
    "    # Step 3: Compute C^2 (element-wise square)\n",
    "    matrix_c_squared = square_matrix(matrix_c)\n",
    "    \n",
    "    # Step 4: Transpose C^2\n",
    "    result = transpose_matrix(matrix_c_squared)\n",
    "    \n",
    "    return result"
   ]
  },
  {
   "cell_type": "code",
   "execution_count": 8,
   "id": "30760e41-33db-4b1a-9274-bbe978c894ae",
   "metadata": {},
   "outputs": [
    {
     "name": "stdout",
     "output_type": "stream",
     "text": [
      "         2245 function calls (1641 primitive calls) in 5.093 seconds\n",
      "\n",
      "   Ordered by: cumulative time\n",
      "\n",
      "   ncalls  tottime  percall  cumtime  percall filename:lineno(function)\n",
      "        1    0.014    0.014    5.025    5.025 <string>:1(<module>)\n",
      "        1    0.000    0.000    5.011    5.011 2124145232.py:23(process_matrices_2)\n",
      "        1    4.945    4.945    4.945    4.945 2124145232.py:1(multiply_matrices_2)\n",
      "        1    0.034    0.034    0.034    0.034 3345820199.py:35(square_matrix)\n",
      "        2    0.021    0.010    0.023    0.012 3345820199.py:3(normalize_matrix)\n",
      "        1    0.022    0.022    0.022    0.022 3345820199.py:9(add_matrices)\n",
      "        1    0.017    0.017    0.017    0.017 3345820199.py:31(divide_matrix)\n",
      "        2    0.016    0.008    0.016    0.008 {method '__exit__' of 'sqlite3.Connection' objects}\n",
      "        1    0.015    0.015    0.015    0.015 3345820199.py:39(transpose_matrix)\n",
      "    602/2    0.004    0.000    0.005    0.002 {built-in method builtins.sum}\n",
      "      602    0.000    0.000    0.005    0.000 3345820199.py:5(<genexpr>)\n",
      "       11    0.002    0.000    0.002    0.000 socket.py:621(send)\n",
      "        2    0.000    0.000    0.000    0.000 events.py:86(_run)\n",
      "        1    0.000    0.000    0.000    0.000 iostream.py:275(<lambda>)\n",
      "        2    0.000    0.000    0.000    0.000 {method 'run' of '_contextvars.Context' objects}\n",
      "        1    0.000    0.000    0.000    0.000 iostream.py:277(_really_send)\n",
      "        1    0.000    0.000    0.000    0.000 threading.py:323(wait)\n",
      "        1    0.000    0.000    0.000    0.000 socket.py:698(send_multipart)\n",
      "        1    0.000    0.000    0.000    0.000 base_events.py:1909(_run_once)\n",
      "        2    0.000    0.000    0.000    0.000 zmqstream.py:687(_rebuild_io_state)\n",
      "        1    0.000    0.000    0.000    0.000 {method '_acquire_restore' of '_thread.RLock' objects}\n",
      "       11    0.000    0.000    0.000    0.000 enum.py:1551(__or__)\n",
      "        1    0.000    0.000    0.000    0.000 ioloop.py:742(_run_callback)\n",
      "        1    0.000    0.000    0.000    0.000 zmqstream.py:718(<lambda>)\n",
      "        1    0.000    0.000    0.000    0.000 zmqstream.py:607(_handle_events)\n",
      "        2    0.000    0.000    0.000    0.000 zmqstream.py:710(_update_handler)\n",
      "        2    0.000    0.000    0.000    0.000 traitlets.py:708(__set__)\n",
      "      618    0.000    0.000    0.000    0.000 {built-in method builtins.len}\n",
      "        1    0.000    0.000    0.000    0.000 {method 'disable' of '_lsprof.Profiler' objects}\n",
      "        2    0.000    0.000    0.000    0.000 traitlets.py:3631(set)\n",
      "        2    0.000    0.000    0.000    0.000 traitlets.py:689(set)\n",
      "        3    0.000    0.000    0.000    0.000 attrsettr.py:42(__getattr__)\n",
      "       48    0.000    0.000    0.000    0.000 enum.py:1544(_get_value)\n",
      "  104/100    0.000    0.000    0.000    0.000 {built-in method builtins.isinstance}\n",
      "        5    0.000    0.000    0.000    0.000 enum.py:1562(__and__)\n",
      "        2    0.000    0.000    0.000    0.000 traitlets.py:718(_validate)\n",
      "        1    0.000    0.000    0.000    0.000 proactor_events.py:792(_loop_self_reading)\n",
      "        3    0.000    0.000    0.000    0.000 attrsettr.py:65(_get_attr_opt)\n",
      "        1    0.000    0.000    0.000    0.000 windows_events.py:482(recv)\n",
      "        1    0.000    0.000    0.000    0.000 zmqstream.py:648(_handle_recv)\n",
      "        1    0.000    0.000    0.000    0.000 asyncio.py:539(_start_select)\n",
      "       20    0.000    0.000    0.000    0.000 enum.py:726(__call__)\n",
      "        1    0.000    0.000    0.000    0.000 asyncio.py:225(add_callback)\n",
      "        1    0.000    0.000    0.000    0.000 traitlets.py:1512(_notify_trait)\n",
      "        2    0.000    0.000    0.000    0.000 traitlets.py:3474(validate)\n",
      "        1    0.000    0.000    0.000    0.000 socket.py:777(recv_multipart)\n",
      "        1    0.000    0.000    0.000    0.000 traitlets.py:1523(notify_change)\n",
      "        1    0.000    0.000    0.000    0.000 base_events.py:785(call_soon)\n",
      "        4    0.000    0.000    0.000    0.000 {method '__exit__' of '_thread.lock' objects}\n",
      "        1    0.000    0.000    0.000    0.000 base_events.py:814(_call_soon)\n",
      "        2    0.000    0.000    0.000    0.000 typing.py:1221(__instancecheck__)\n",
      "        1    0.000    0.000    0.000    0.000 traitlets.py:1527(_notify_observers)\n",
      "        2    0.000    0.000    0.000    0.000 typing.py:1492(__subclasscheck__)\n",
      "        2    0.000    0.000    0.000    0.000 zmqstream.py:566(sending)\n",
      "        1    0.000    0.000    0.000    0.000 windows_events.py:443(select)\n",
      "        1    0.000    0.000    0.000    0.000 windows_events.py:761(_poll)\n",
      "        2    0.000    0.000    0.000    0.000 queue.py:97(empty)\n",
      "       20    0.000    0.000    0.000    0.000 enum.py:1129(__new__)\n",
      "        2    0.000    0.000    0.000    0.000 traitlets.py:727(_cross_validate)\n",
      "        1    0.000    0.000    0.000    0.000 windows_events.py:714(_register)\n",
      "        3    0.000    0.000    0.000    0.000 threading.py:299(__enter__)\n",
      "        2    0.000    0.000    0.000    0.000 {built-in method _thread.allocate_lock}\n",
      "        2    0.000    0.000    0.000    0.000 traitlets.py:3624(validate_elements)\n",
      "        3    0.000    0.000    0.000    0.000 typing.py:392(inner)\n",
      "        1    0.000    0.000    0.000    0.000 threading.py:394(notify)\n",
      "        1    0.000    0.000    0.000    0.000 zmqstream.py:580(_run_callback)\n",
      "        1    0.000    0.000    0.000    0.000 {method 'WSARecv' of '_overlapped.Overlapped' objects}\n",
      "        2    0.000    0.000    0.000    0.000 {built-in method builtins.issubclass}\n",
      "        3    0.000    0.000    0.000    0.000 <frozen importlib._bootstrap>:1390(_handle_fromlist)\n",
      "        1    0.000    0.000    0.000    0.000 history.py:839(_writeout_output_cache)\n",
      "        8    0.000    0.000    0.000    0.000 {built-in method builtins.hasattr}\n",
      "        4    0.000    0.000    0.000    0.000 {method 'acquire' of '_thread.lock' objects}\n",
      "        2    0.000    0.000    0.000    0.000 traitlets.py:676(__get__)\n",
      "        2    0.000    0.000    0.000    0.000 <frozen abc>:121(__subclasscheck__)\n",
      "        1    0.000    0.000    0.000    0.000 events.py:36(__init__)\n",
      "        1    0.000    0.000    0.000    0.000 windows_events.py:55(__init__)\n",
      "        2    0.000    0.000    0.000    0.000 traitlets.py:2304(validate)\n",
      "        1    0.000    0.000    0.000    0.000 iostream.py:215(_check_mp_mode)\n",
      "        2    0.000    0.000    0.000    0.000 threading.py:302(__exit__)\n",
      "        1    0.000    0.000    0.000    0.000 {built-in method _overlapped.GetQueuedCompletionStatus}\n",
      "        2    0.000    0.000    0.000    0.000 typing.py:1285(__hash__)\n",
      "        1    0.000    0.000    0.000    0.000 windows_events.py:704(_register_with_iocp)\n",
      "        1    0.000    0.000    0.000    0.000 iostream.py:212(_is_master_process)\n",
      "        2    0.000    0.000    0.000    0.000 base_events.py:734(time)\n",
      "        2    0.000    0.000    0.000    0.000 {method 'release' of '_thread.lock' objects}\n",
      "        2    0.000    0.000    0.000    0.000 {built-in method _abc._abc_subclasscheck}\n",
      "        3    0.000    0.000    0.000    0.000 {built-in method builtins.getattr}\n",
      "        2    0.000    0.000    0.000    0.000 {method '__enter__' of '_thread.RLock' objects}\n",
      "        1    0.000    0.000    0.000    0.000 _weakrefset.py:75(__contains__)\n",
      "        2    0.000    0.000    0.000    0.000 traitlets.py:3486(validate_elements)\n",
      "        2    0.000    0.000    0.000    0.000 traitlets.py:629(get)\n",
      "       15    0.000    0.000    0.000    0.000 typing.py:2182(cast)\n",
      "        2    0.000    0.000    0.000    0.000 queue.py:209(_qsize)\n",
      "        3    0.000    0.000    0.000    0.000 {method 'append' of 'collections.deque' objects}\n",
      "        1    0.000    0.000    0.000    0.000 threading.py:314(_is_owned)\n",
      "        4    0.000    0.000    0.000    0.000 {method 'get' of 'dict' objects}\n",
      "        3    0.000    0.000    0.000    0.000 {method 'upper' of 'str' objects}\n",
      "        3    0.000    0.000    0.000    0.000 {method 'popleft' of 'collections.deque' objects}\n",
      "        1    0.000    0.000    0.000    0.000 iostream.py:156(_handle_event)\n",
      "        1    0.000    0.000    0.000    0.000 {built-in method builtins.max}\n",
      "        2    0.000    0.000    0.000    0.000 {built-in method math.ceil}\n",
      "        1    0.000    0.000    0.000    0.000 {method '_release_save' of '_thread.RLock' objects}\n",
      "        1    0.000    0.000    0.000    0.000 {built-in method _asyncio.get_running_loop}\n",
      "        1    0.000    0.000    0.000    0.000 threading.py:308(_release_save)\n",
      "        1    0.000    0.000    0.000    0.000 {built-in method nt.getpid}\n",
      "        2    0.000    0.000    0.000    0.000 {method '__exit__' of '_thread.RLock' objects}\n",
      "        2    0.000    0.000    0.000    0.000 {method 'keys' of 'dict' objects}\n",
      "        2    0.000    0.000    0.000    0.000 {method '_is_owned' of '_thread.RLock' objects}\n",
      "        2    0.000    0.000    0.000    0.000 {built-in method builtins.hash}\n",
      "        1    0.000    0.000    0.000    0.000 {method 'result' of '_asyncio.Future' objects}\n",
      "        2    0.000    0.000    0.000    0.000 {method 'extend' of 'list' objects}\n",
      "        1    0.000    0.000    0.000    0.000 {built-in method builtins.min}\n",
      "        3    0.000    0.000    0.000    0.000 zmqstream.py:562(receiving)\n",
      "        1    0.000    0.000    0.000    0.000 {built-in method _contextvars.copy_context}\n",
      "        1    0.000    0.000    0.000    0.000 {method '__enter__' of '_thread.lock' objects}\n",
      "        2    0.000    0.000    0.000    0.000 {built-in method time.monotonic}\n",
      "        1    0.000    0.000    0.000    0.000 {method 'clear' of 'list' objects}\n",
      "        1    0.000    0.000    0.000    0.000 {method 'add_done_callback' of '_asyncio.Future' objects}\n",
      "        1    0.000    0.000    0.000    0.000 {method 'remove' of 'collections.deque' objects}\n",
      "        1    0.000    0.000    0.000    0.000 {method 'fileno' of '_socket.socket' objects}\n",
      "        1    0.000    0.000    0.000    0.000 base_events.py:539(_check_closed)\n",
      "        2    0.000    0.000    0.000    0.000 base_events.py:2004(get_debug)\n",
      "        1    0.000    0.000    0.000    0.000 iostream.py:254(closed)\n",
      "        1    0.000    0.000    0.000    0.000 proactor_events.py:883(_process_events)\n",
      "        1    0.000    0.000    0.000    0.000 windows_events.py:429(_check_closed)\n",
      "\n",
      "\n"
     ]
    }
   ],
   "source": [
    "cProfile.run('process_matrices_2(matrix_a, matrix_b)', sort='cumtime')"
   ]
  },
  {
   "cell_type": "markdown",
   "id": "abbc555e-1390-4133-b513-755a685a4590",
   "metadata": {},
   "source": [
    "We now have way less function calls and a slight time improvement!\n",
    "\n",
    "I imagine the process_matrices operation will get very fast once I implement it with numpy:"
   ]
  },
  {
   "cell_type": "code",
   "execution_count": 9,
   "id": "94283911-32ff-47b9-b0cb-95079921d691",
   "metadata": {},
   "outputs": [],
   "source": [
    "def process_matrices_3(matrix_a, matrix_b):\n",
    "    # Step 1: Normalize matrices A and B\n",
    "    matrix_a_norm = matrix_a/np.sum(matrix_a)\n",
    "    matrix_b_norm = matrix_b/np.sum(matrix_b)\n",
    "    \n",
    "    # Step 2: Compute C = (A + B) * A / 2\n",
    "    matrix_c = np.multiply(matrix_a_norm + matrix_b_norm, matrix_a_norm)/2\n",
    "    \n",
    "    # Step 3: Compute C^2 (element-wise square)\n",
    "    matrix_c2 = matrix_c**2\n",
    "    \n",
    "    # Step 4: Transpose C^2\n",
    "    result = matrix_c2.T\n",
    "    \n",
    "    return result"
   ]
  },
  {
   "cell_type": "code",
   "execution_count": 10,
   "id": "4cda344f-5f53-4914-8d86-eb5249226f1e",
   "metadata": {},
   "outputs": [
    {
     "name": "stdout",
     "output_type": "stream",
     "text": [
      "         171 function calls (169 primitive calls) in 0.043 seconds\n",
      "\n",
      "   Ordered by: cumulative time\n",
      "\n",
      "   ncalls  tottime  percall  cumtime  percall filename:lineno(function)\n",
      "        1    0.000    0.000    0.022    0.022 {built-in method builtins.exec}\n",
      "        1    0.000    0.000    0.022    0.022 <string>:1(<module>)\n",
      "        1    0.011    0.011    0.022    0.022 1584011371.py:1(process_matrices_3)\n",
      "        2    0.000    0.000    0.020    0.010 fromnumeric.py:2177(sum)\n",
      "        2    0.009    0.005    0.020    0.010 fromnumeric.py:71(_wrapreduction)\n",
      "        2    0.010    0.005    0.020    0.010 {method '__exit__' of 'sqlite3.Connection' objects}\n",
      "        2    0.011    0.005    0.011    0.005 {method 'reduce' of 'numpy.ufunc' objects}\n",
      "        1    0.000    0.000    0.000    0.000 zmqstream.py:687(_rebuild_io_state)\n",
      "        2    0.000    0.000    0.000    0.000 traitlets.py:708(__set__)\n",
      "        1    0.000    0.000    0.000    0.000 zmqstream.py:710(_update_handler)\n",
      "        2    0.000    0.000    0.000    0.000 traitlets.py:3631(set)\n",
      "        2    0.000    0.000    0.000    0.000 traitlets.py:689(set)\n",
      "        1    0.000    0.000    0.000    0.000 attrsettr.py:42(__getattr__)\n",
      "        1    0.000    0.000    0.000    0.000 {method 'disable' of '_lsprof.Profiler' objects}\n",
      "        1    0.000    0.000    0.000    0.000 attrsettr.py:65(_get_attr_opt)\n",
      "        2    0.000    0.000    0.000    0.000 traitlets.py:718(_validate)\n",
      "        2    0.000    0.000    0.000    0.000 enum.py:1562(__and__)\n",
      "    28/26    0.000    0.000    0.000    0.000 {built-in method builtins.isinstance}\n",
      "        1    0.000    0.000    0.000    0.000 zmqstream.py:580(_run_callback)\n",
      "        1    0.000    0.000    0.000    0.000 traitlets.py:1512(_notify_trait)\n",
      "        9    0.000    0.000    0.000    0.000 enum.py:1544(_get_value)\n",
      "        1    0.000    0.000    0.000    0.000 traitlets.py:1523(notify_change)\n",
      "        5    0.000    0.000    0.000    0.000 enum.py:726(__call__)\n",
      "        2    0.000    0.000    0.000    0.000 traitlets.py:3474(validate)\n",
      "        3    0.000    0.000    0.000    0.000 typing.py:392(inner)\n",
      "        1    0.000    0.000    0.000    0.000 typing.py:1221(__instancecheck__)\n",
      "        1    0.000    0.000    0.000    0.000 traitlets.py:1527(_notify_observers)\n",
      "        1    0.000    0.000    0.000    0.000 typing.py:1492(__subclasscheck__)\n",
      "        1    0.000    0.000    0.000    0.000 zmqstream.py:566(sending)\n",
      "        1    0.000    0.000    0.000    0.000 enum.py:1551(__or__)\n",
      "        2    0.000    0.000    0.000    0.000 traitlets.py:727(_cross_validate)\n",
      "        1    0.000    0.000    0.000    0.000 queue.py:97(empty)\n",
      "        2    0.000    0.000    0.000    0.000 traitlets.py:3624(validate_elements)\n",
      "        1    0.000    0.000    0.000    0.000 {built-in method builtins.issubclass}\n",
      "        1    0.000    0.000    0.000    0.000 history.py:839(_writeout_output_cache)\n",
      "        2    0.000    0.000    0.000    0.000 typing.py:1285(__hash__)\n",
      "        6    0.000    0.000    0.000    0.000 {built-in method builtins.hasattr}\n",
      "        3    0.000    0.000    0.000    0.000 {built-in method builtins.getattr}\n",
      "        1    0.000    0.000    0.000    0.000 iostream.py:156(_handle_event)\n",
      "        5    0.000    0.000    0.000    0.000 enum.py:1129(__new__)\n",
      "        2    0.000    0.000    0.000    0.000 traitlets.py:676(__get__)\n",
      "        1    0.000    0.000    0.000    0.000 <frozen importlib._bootstrap>:1390(_handle_fromlist)\n",
      "        1    0.000    0.000    0.000    0.000 {built-in method _thread.allocate_lock}\n",
      "        1    0.000    0.000    0.000    0.000 <frozen abc>:121(__subclasscheck__)\n",
      "        1    0.000    0.000    0.000    0.000 base_events.py:734(time)\n",
      "        1    0.000    0.000    0.000    0.000 threading.py:302(__exit__)\n",
      "        2    0.000    0.000    0.000    0.000 traitlets.py:2304(validate)\n",
      "        1    0.000    0.000    0.000    0.000 {method '_acquire_restore' of '_thread.RLock' objects}\n",
      "        1    0.000    0.000    0.000    0.000 threading.py:299(__enter__)\n",
      "        5    0.000    0.000    0.000    0.000 {built-in method builtins.len}\n",
      "        1    0.000    0.000    0.000    0.000 {built-in method builtins.max}\n",
      "        1    0.000    0.000    0.000    0.000 {built-in method _abc._abc_subclasscheck}\n",
      "        1    0.000    0.000    0.000    0.000 threading.py:314(_is_owned)\n",
      "        2    0.000    0.000    0.000    0.000 traitlets.py:629(get)\n",
      "        2    0.000    0.000    0.000    0.000 {method 'items' of 'dict' objects}\n",
      "        1    0.000    0.000    0.000    0.000 threading.py:308(_release_save)\n",
      "        2    0.000    0.000    0.000    0.000 traitlets.py:3486(validate_elements)\n",
      "        3    0.000    0.000    0.000    0.000 {method '__exit__' of '_thread.lock' objects}\n",
      "       15    0.000    0.000    0.000    0.000 typing.py:2182(cast)\n",
      "        4    0.000    0.000    0.000    0.000 {method 'get' of 'dict' objects}\n",
      "        1    0.000    0.000    0.000    0.000 {built-in method builtins.min}\n",
      "        1    0.000    0.000    0.000    0.000 queue.py:209(_qsize)\n",
      "        2    0.000    0.000    0.000    0.000 {method 'acquire' of '_thread.lock' objects}\n",
      "        1    0.000    0.000    0.000    0.000 {method 'upper' of 'str' objects}\n",
      "        1    0.000    0.000    0.000    0.000 {built-in method math.ceil}\n",
      "        2    0.000    0.000    0.000    0.000 {built-in method builtins.hash}\n",
      "        1    0.000    0.000    0.000    0.000 {built-in method time.monotonic}\n",
      "        2    0.000    0.000    0.000    0.000 fromnumeric.py:2172(_sum_dispatcher)\n",
      "        2    0.000    0.000    0.000    0.000 {method 'extend' of 'list' objects}\n",
      "        1    0.000    0.000    0.000    0.000 {method 'append' of 'collections.deque' objects}\n",
      "        1    0.000    0.000    0.000    0.000 {method '__enter__' of '_thread.lock' objects}\n",
      "        1    0.000    0.000    0.000    0.000 {method '__exit__' of '_thread.RLock' objects}\n",
      "        1    0.000    0.000    0.000    0.000 zmqstream.py:562(receiving)\n",
      "        1    0.000    0.000    0.000    0.000 {method 'release' of '_thread.lock' objects}\n",
      "\n",
      "\n"
     ]
    }
   ],
   "source": [
    "cProfile.run('process_matrices_3(matrix_a, matrix_b)', sort='cumtime')"
   ]
  },
  {
   "cell_type": "markdown",
   "id": "06c6d0bb-70e7-4637-8dc4-013bda125783",
   "metadata": {},
   "source": [
    "Finally, let's see what happens using numba:"
   ]
  },
  {
   "cell_type": "code",
   "execution_count": 15,
   "id": "623c05af-b7bf-4746-a21f-c1427e4c74be",
   "metadata": {},
   "outputs": [],
   "source": [
    "from numba import njit\n",
    "\n",
    "c_process_matrices_3 = njit(process_matrices_3)"
   ]
  },
  {
   "cell_type": "code",
   "execution_count": 17,
   "id": "77046668-45d1-4a3e-8f68-1109ce2359e2",
   "metadata": {},
   "outputs": [
    {
     "name": "stdout",
     "output_type": "stream",
     "text": [
      "         646 function calls (550 primitive calls) in 0.002 seconds\n",
      "\n",
      "   Ordered by: cumulative time\n",
      "\n",
      "   ncalls  tottime  percall  cumtime  percall filename:lineno(function)\n",
      "        1    0.000    0.000    0.002    0.002 {built-in method builtins.exec}\n",
      "        1    0.000    0.000    0.002    0.002 <string>:1(<module>)\n",
      "        1    0.000    0.000    0.001    0.001 dispatcher.py:343(_compile_for_args)\n",
      "        4    0.000    0.000    0.001    0.000 typeof.py:27(typeof)\n",
      "     12/4    0.000    0.000    0.001    0.000 functools.py:902(wrapper)\n",
      "      8/4    0.000    0.000    0.001    0.000 typeof.py:181(_typeof_list)\n",
      "     12/8    0.000    0.000    0.001    0.000 abstract.py:61(__call__)\n",
      "        1    0.000    0.000    0.001    0.001 dispatcher.py:859(compile)\n",
      "        2    0.000    0.000    0.000    0.000 dispatcher.py:679(typeof_pyval)\n",
      "       12    0.000    0.000    0.000    0.000 abstract.py:49(_intern)\n",
      "     12/8    0.000    0.000    0.000    0.000 containers.py:424(__init__)\n",
      "       13    0.000    0.000    0.000    0.000 {method 'get' of 'dict' objects}\n",
      "        1    0.000    0.000    0.000    0.000 {method 'disable' of '_lsprof.Profiler' objects}\n",
      "    52/20    0.000    0.000    0.000    0.000 abstract.py:121(__hash__)\n",
      "     12/8    0.000    0.000    0.000    0.000 misc.py:63(unliteral)\n",
      "        2    0.000    0.000    0.000    0.000 contextlib.py:567(__exit__)\n",
      "        4    0.000    0.000    0.000    0.000 containers.py:472(__unliteral__)\n",
      "      5/3    0.000    0.000    0.000    0.000 contextlib.py:141(__exit__)\n",
      "    52/20    0.000    0.000    0.000    0.000 {built-in method builtins.hash}\n",
      "        3    0.000    0.000    0.000    0.000 contextlib.py:511(enter_context)\n",
      "      5/3    0.000    0.000    0.000    0.000 {method 'throw' of 'generator' objects}\n",
      "        4    0.000    0.000    0.000    0.000 event.py:337(install_timer)\n",
      "       56    0.000    0.000    0.000    0.000 containers.py:455(key)\n",
      "      5/3    0.000    0.000    0.000    0.000 contextlib.py:132(__enter__)\n",
      "      5/3    0.000    0.000    0.000    0.000 {built-in method builtins.next}\n",
      "       12    0.000    0.000    0.000    0.000 abstract.py:124(__eq__)\n",
      "        2    0.000    0.000    0.000    0.000 event.py:422(trigger_event)\n",
      "        4    0.000    0.000    0.000    0.000 event.py:312(install_listener)\n",
      "       12    0.000    0.000    0.000    0.000 functools.py:816(dispatch)\n",
      "        2    0.000    0.000    0.000    0.000 event.py:404(end_event)\n",
      "        1    0.000    0.000    0.000    0.000 compiler_lock.py:22(__exit__)\n",
      "        1    0.000    0.000    0.000    0.000 compiler_lock.py:15(release)\n",
      "        5    0.000    0.000    0.000    0.000 contextlib.py:299(helper)\n",
      "        4    0.000    0.000    0.000    0.000 event.py:209(broadcast)\n",
      "        4    0.000    0.000    0.000    0.000 typeof.py:130(_typeof_int)\n",
      "        2    0.000    0.000    0.000    0.000 event.py:390(start_event)\n",
      "       16    0.000    0.000    0.000    0.000 {built-in method builtins.isinstance}\n",
      "        1    0.000    0.000    0.000    0.000 compiler_lock.py:19(__enter__)\n",
      "        2    0.000    0.000    0.000    0.000 event.py:195(unregister)\n",
      "        1    0.000    0.000    0.000    0.000 compiler_lock.py:11(acquire)\n",
      "        5    0.000    0.000    0.000    0.000 contextlib.py:104(__init__)\n",
      "        2    0.000    0.000    0.000    0.000 event.py:182(register)\n",
      "        8    0.000    0.000    0.000    0.000 event.py:66(_guard_kind)\n",
      "        4    0.000    0.000    0.000    0.000 utils.py:504(bit_length)\n",
      "        2    0.000    0.000    0.000    0.000 event.py:243(notify)\n",
      "        1    0.000    0.000    0.000    0.000 dispatcher.py:79(compile)\n",
      "        1    0.000    0.000    0.000    0.000 dispatcher.py:86(_compile_cached)\n",
      "        1    0.000    0.000    0.000    0.000 event.py:436(on_exit)\n",
      "        4    0.000    0.000    0.000    0.000 <string>:1(<lambda>)\n",
      "       12    0.000    0.000    0.000    0.000 weakref.py:414(__getitem__)\n",
      "        4    0.000    0.000    0.000    0.000 event.py:100(__init__)\n",
      "        1    0.000    0.000    0.000    0.000 dispatcher.py:353(error_rewrite)\n",
      "       56    0.000    0.000    0.000    0.000 abstract.py:491(initial_value)\n",
      "        6    0.000    0.000    0.000    0.000 <frozen abc>:117(__instancecheck__)\n",
      "        3    0.000    0.000    0.000    0.000 contextlib.py:543(_push_cm_exit)\n",
      "        1    0.000    0.000    0.000    0.000 sigutils.py:22(normalize_signature)\n",
      "       12    0.000    0.000    0.000    0.000 {built-in method builtins.hasattr}\n",
      "        1    0.000    0.000    0.000    0.000 contextlib.py:491(push)\n",
      "        8    0.000    0.000    0.000    0.000 {method 'startswith' of 'str' objects}\n",
      "       14    0.000    0.000    0.000    0.000 {built-in method builtins.getattr}\n",
      "        6    0.000    0.000    0.000    0.000 {built-in method _abc._abc_instancecheck}\n",
      "        1    0.000    0.000    0.000    0.000 event.py:270(on_end)\n",
      "        4    0.000    0.000    0.000    0.000 contextlib.py:548(_push_exit_callback)\n",
      "       12    0.000    0.000    0.000    0.000 {built-in method builtins.len}\n",
      "        2    0.000    0.000    0.000    0.000 sigutils.py:43(check_type)\n",
      "        1    0.000    0.000    0.000    0.000 {method 'with_traceback' of 'BaseException' objects}\n",
      "        4    0.000    0.000    0.000    0.000 {built-in method __new__ of type object at 0x00007FFB81AA6A20}\n",
      "       20    0.000    0.000    0.000    0.000 abstract.py:96(key)\n",
      "       12    0.000    0.000    0.000    0.000 abstract.py:93(__init__)\n",
      "       12    0.000    0.000    0.000    0.000 abstract.py:118(__str__)\n",
      "       12    0.000    0.000    0.000    0.000 {built-in method _abc.get_cache_token}\n",
      "       12    0.000    0.000    0.000    0.000 abstract.py:488(__init__)\n",
      "        1    0.000    0.000    0.000    0.000 dispatcher.py:236(_compilation_chain_init_hook)\n",
      "        2    0.000    0.000    0.000    0.000 contextlib.py:481(__init__)\n",
      "        4    0.000    0.000    0.000    0.000 {built-in method builtins.bin}\n",
      "        1    0.000    0.000    0.000    0.000 event.py:265(on_start)\n",
      "        4    0.000    0.000    0.000    0.000 {method 'pop' of 'collections.deque' objects}\n",
      "        6    0.000    0.000    0.000    0.000 {method 'append' of 'list' objects}\n",
      "        2    0.000    0.000    0.000    0.000 {method 'remove' of 'list' objects}\n",
      "        2    0.000    0.000    0.000    0.000 {built-in method sys.exc_info}\n",
      "        3    0.000    0.000    0.000    0.000 contextlib.py:471(_create_exit_wrapper)\n",
      "        2    0.000    0.000    0.000    0.000 {built-in method time.perf_counter}\n",
      "        4    0.000    0.000    0.000    0.000 event.py:108(kind)\n",
      "        4    0.000    0.000    0.000    0.000 {method 'append' of 'collections.deque' objects}\n",
      "        2    0.000    0.000    0.000    0.000 event.py:138(is_start)\n",
      "        1    0.000    0.000    0.000    0.000 {method 'acquire' of '_thread.RLock' objects}\n",
      "        1    0.000    0.000    0.000    0.000 dispatcher.py:182(__exit__)\n",
      "        2    0.000    0.000    0.000    0.000 event.py:262(__init__)\n",
      "        1    0.000    0.000    0.000    0.000 {method 'release' of '_thread.RLock' objects}\n",
      "        1    0.000    0.000    0.000    0.000 event.py:148(is_end)\n",
      "        1    0.000    0.000    0.000    0.000 dispatcher.py:178(__enter__)\n",
      "        1    0.000    0.000    0.000    0.000 entrypoints.py:23(init_all)\n",
      "        2    0.000    0.000    0.000    0.000 contextlib.py:564(__enter__)\n",
      "        1    0.000    0.000    0.000    0.000 caching.py:82(load_overload)\n",
      "\n",
      "\n"
     ]
    },
    {
     "ename": "TypingError",
     "evalue": "Failed in nopython mode pipeline (step: nopython frontend)\n\u001b[1m\u001b[1m\u001b[1mNo implementation of function Function(<function sum at 0x0000014D7434BBA0>) found for signature:\n \n >>> sum(reflected list(reflected list(int64)<iv=None>)<iv=None>)\n \nThere are 2 candidate implementations:\n\u001b[1m      - Of which 2 did not match due to:\n      Overload of function 'sum': File: numba\\core\\typing\\npydecl.py: Line 368.\n        With argument(s): '(reflected list(reflected list(int64)<iv=None>)<iv=None>)':\u001b[0m\n\u001b[1m       No match.\u001b[0m\n\u001b[0m\n\u001b[0m\u001b[1mDuring: resolving callee type: Function(<function sum at 0x0000014D7434BBA0>)\u001b[0m\n\u001b[0m\u001b[1mDuring: typing of call at C:\\Users\\stell\\AppData\\Local\\Temp\\ipykernel_43440\\1584011371.py (3)\n\u001b[0m\n\u001b[1m\nFile \"..\\..\\..\\AppData\\Local\\Temp\\ipykernel_43440\\1584011371.py\", line 3:\u001b[0m\n\u001b[1m<source missing, REPL/exec in use?>\u001b[0m\n",
     "output_type": "error",
     "traceback": [
      "\u001b[1;31m---------------------------------------------------------------------------\u001b[0m",
      "\u001b[1;31mTypingError\u001b[0m                               Traceback (most recent call last)",
      "Cell \u001b[1;32mIn[17], line 1\u001b[0m\n\u001b[1;32m----> 1\u001b[0m cProfile\u001b[38;5;241m.\u001b[39mrun(\u001b[38;5;124m'\u001b[39m\u001b[38;5;124mc_process_matrices_3(matrix_a, matrix_b)\u001b[39m\u001b[38;5;124m'\u001b[39m, sort\u001b[38;5;241m=\u001b[39m\u001b[38;5;124m'\u001b[39m\u001b[38;5;124mcumtime\u001b[39m\u001b[38;5;124m'\u001b[39m)\n",
      "File \u001b[1;32m~\\anaconda3\\Lib\\cProfile.py:18\u001b[0m, in \u001b[0;36mrun\u001b[1;34m(statement, filename, sort)\u001b[0m\n\u001b[0;32m     17\u001b[0m \u001b[38;5;28;01mdef\u001b[39;00m \u001b[38;5;21mrun\u001b[39m(statement, filename\u001b[38;5;241m=\u001b[39m\u001b[38;5;28;01mNone\u001b[39;00m, sort\u001b[38;5;241m=\u001b[39m\u001b[38;5;241m-\u001b[39m\u001b[38;5;241m1\u001b[39m):\n\u001b[1;32m---> 18\u001b[0m     \u001b[38;5;28;01mreturn\u001b[39;00m _pyprofile\u001b[38;5;241m.\u001b[39m_Utils(Profile)\u001b[38;5;241m.\u001b[39mrun(statement, filename, sort)\n",
      "File \u001b[1;32m~\\anaconda3\\Lib\\profile.py:55\u001b[0m, in \u001b[0;36m_Utils.run\u001b[1;34m(self, statement, filename, sort)\u001b[0m\n\u001b[0;32m     53\u001b[0m prof \u001b[38;5;241m=\u001b[39m \u001b[38;5;28mself\u001b[39m\u001b[38;5;241m.\u001b[39mprofiler()\n\u001b[0;32m     54\u001b[0m \u001b[38;5;28;01mtry\u001b[39;00m:\n\u001b[1;32m---> 55\u001b[0m     prof\u001b[38;5;241m.\u001b[39mrun(statement)\n\u001b[0;32m     56\u001b[0m \u001b[38;5;28;01mexcept\u001b[39;00m \u001b[38;5;167;01mSystemExit\u001b[39;00m:\n\u001b[0;32m     57\u001b[0m     \u001b[38;5;28;01mpass\u001b[39;00m\n",
      "File \u001b[1;32m~\\anaconda3\\Lib\\cProfile.py:97\u001b[0m, in \u001b[0;36mProfile.run\u001b[1;34m(self, cmd)\u001b[0m\n\u001b[0;32m     95\u001b[0m \u001b[38;5;28;01mimport\u001b[39;00m \u001b[38;5;21;01m__main__\u001b[39;00m\n\u001b[0;32m     96\u001b[0m \u001b[38;5;28mdict\u001b[39m \u001b[38;5;241m=\u001b[39m __main__\u001b[38;5;241m.\u001b[39m\u001b[38;5;18m__dict__\u001b[39m\n\u001b[1;32m---> 97\u001b[0m \u001b[38;5;28;01mreturn\u001b[39;00m \u001b[38;5;28mself\u001b[39m\u001b[38;5;241m.\u001b[39mrunctx(cmd, \u001b[38;5;28mdict\u001b[39m, \u001b[38;5;28mdict\u001b[39m)\n",
      "File \u001b[1;32m~\\anaconda3\\Lib\\cProfile.py:102\u001b[0m, in \u001b[0;36mProfile.runctx\u001b[1;34m(self, cmd, globals, locals)\u001b[0m\n\u001b[0;32m    100\u001b[0m \u001b[38;5;28mself\u001b[39m\u001b[38;5;241m.\u001b[39menable()\n\u001b[0;32m    101\u001b[0m \u001b[38;5;28;01mtry\u001b[39;00m:\n\u001b[1;32m--> 102\u001b[0m     exec(cmd, \u001b[38;5;28mglobals\u001b[39m, \u001b[38;5;28mlocals\u001b[39m)\n\u001b[0;32m    103\u001b[0m \u001b[38;5;28;01mfinally\u001b[39;00m:\n\u001b[0;32m    104\u001b[0m     \u001b[38;5;28mself\u001b[39m\u001b[38;5;241m.\u001b[39mdisable()\n",
      "File \u001b[1;32m<string>:1\u001b[0m\n",
      "File \u001b[1;32m~\\anaconda3\\Lib\\site-packages\\numba\\core\\dispatcher.py:423\u001b[0m, in \u001b[0;36m_DispatcherBase._compile_for_args\u001b[1;34m(self, *args, **kws)\u001b[0m\n\u001b[0;32m    419\u001b[0m         msg \u001b[38;5;241m=\u001b[39m (\u001b[38;5;124mf\u001b[39m\u001b[38;5;124m\"\u001b[39m\u001b[38;5;132;01m{\u001b[39;00m\u001b[38;5;28mstr\u001b[39m(e)\u001b[38;5;241m.\u001b[39mrstrip()\u001b[38;5;132;01m}\u001b[39;00m\u001b[38;5;124m \u001b[39m\u001b[38;5;130;01m\\n\u001b[39;00m\u001b[38;5;130;01m\\n\u001b[39;00m\u001b[38;5;124mThis error may have been caused \u001b[39m\u001b[38;5;124m\"\u001b[39m\n\u001b[0;32m    420\u001b[0m                \u001b[38;5;124mf\u001b[39m\u001b[38;5;124m\"\u001b[39m\u001b[38;5;124mby the following argument(s):\u001b[39m\u001b[38;5;130;01m\\n\u001b[39;00m\u001b[38;5;132;01m{\u001b[39;00margs_str\u001b[38;5;132;01m}\u001b[39;00m\u001b[38;5;130;01m\\n\u001b[39;00m\u001b[38;5;124m\"\u001b[39m)\n\u001b[0;32m    421\u001b[0m         e\u001b[38;5;241m.\u001b[39mpatch_message(msg)\n\u001b[1;32m--> 423\u001b[0m     error_rewrite(e, \u001b[38;5;124m'\u001b[39m\u001b[38;5;124mtyping\u001b[39m\u001b[38;5;124m'\u001b[39m)\n\u001b[0;32m    424\u001b[0m \u001b[38;5;28;01mexcept\u001b[39;00m errors\u001b[38;5;241m.\u001b[39mUnsupportedError \u001b[38;5;28;01mas\u001b[39;00m e:\n\u001b[0;32m    425\u001b[0m     \u001b[38;5;66;03m# Something unsupported is present in the user code, add help info\u001b[39;00m\n\u001b[0;32m    426\u001b[0m     error_rewrite(e, \u001b[38;5;124m'\u001b[39m\u001b[38;5;124munsupported_error\u001b[39m\u001b[38;5;124m'\u001b[39m)\n",
      "File \u001b[1;32m~\\anaconda3\\Lib\\site-packages\\numba\\core\\dispatcher.py:364\u001b[0m, in \u001b[0;36m_DispatcherBase._compile_for_args.<locals>.error_rewrite\u001b[1;34m(e, issue_type)\u001b[0m\n\u001b[0;32m    362\u001b[0m     \u001b[38;5;28;01mraise\u001b[39;00m e\n\u001b[0;32m    363\u001b[0m \u001b[38;5;28;01melse\u001b[39;00m:\n\u001b[1;32m--> 364\u001b[0m     \u001b[38;5;28;01mraise\u001b[39;00m e\u001b[38;5;241m.\u001b[39mwith_traceback(\u001b[38;5;28;01mNone\u001b[39;00m)\n",
      "\u001b[1;31mTypingError\u001b[0m: Failed in nopython mode pipeline (step: nopython frontend)\n\u001b[1m\u001b[1m\u001b[1mNo implementation of function Function(<function sum at 0x0000014D7434BBA0>) found for signature:\n \n >>> sum(reflected list(reflected list(int64)<iv=None>)<iv=None>)\n \nThere are 2 candidate implementations:\n\u001b[1m      - Of which 2 did not match due to:\n      Overload of function 'sum': File: numba\\core\\typing\\npydecl.py: Line 368.\n        With argument(s): '(reflected list(reflected list(int64)<iv=None>)<iv=None>)':\u001b[0m\n\u001b[1m       No match.\u001b[0m\n\u001b[0m\n\u001b[0m\u001b[1mDuring: resolving callee type: Function(<function sum at 0x0000014D7434BBA0>)\u001b[0m\n\u001b[0m\u001b[1mDuring: typing of call at C:\\Users\\stell\\AppData\\Local\\Temp\\ipykernel_43440\\1584011371.py (3)\n\u001b[0m\n\u001b[1m\nFile \"..\\..\\..\\AppData\\Local\\Temp\\ipykernel_43440\\1584011371.py\", line 3:\u001b[0m\n\u001b[1m<source missing, REPL/exec in use?>\u001b[0m\n"
     ]
    }
   ],
   "source": [
    "cProfile.run('c_process_matrices_3(matrix_a, matrix_b)', sort='cumtime')"
   ]
  }
 ],
 "metadata": {
  "kernelspec": {
   "display_name": "Python 3 (ipykernel)",
   "language": "python",
   "name": "python3"
  },
  "language_info": {
   "codemirror_mode": {
    "name": "ipython",
    "version": 3
   },
   "file_extension": ".py",
   "mimetype": "text/x-python",
   "name": "python",
   "nbconvert_exporter": "python",
   "pygments_lexer": "ipython3",
   "version": "3.12.7"
  }
 },
 "nbformat": 4,
 "nbformat_minor": 5
}
