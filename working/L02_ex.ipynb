{
 "cells": [
  {
   "cell_type": "code",
   "execution_count": 1,
   "id": "3ed48387-2ae1-4089-a15a-1e257a7ed417",
   "metadata": {},
   "outputs": [],
   "source": [
    "import numpy as np\n",
    "from time import time"
   ]
  },
  {
   "cell_type": "markdown",
   "id": "d9007ba6-8f70-4f4a-bd85-fab39d144713",
   "metadata": {},
   "source": [
    "### Q1 : Fun with arrays"
   ]
  },
  {
   "cell_type": "code",
   "execution_count": 2,
   "id": "e93cc0ec-b4b3-4677-a38b-a37c5cd956ce",
   "metadata": {},
   "outputs": [
    {
     "name": "stdout",
     "output_type": "stream",
     "text": [
      "arr =  [[ 1  6 11]\n",
      " [ 2  7 12]\n",
      " [ 3  8 13]\n",
      " [ 4  9 14]\n",
      " [ 5 10 15]]\n"
     ]
    }
   ],
   "source": [
    "# A1\n",
    "arr = np.arange(1,16).reshape(3,5).T\n",
    "print(\"arr = \", arr)"
   ]
  },
  {
   "cell_type": "code",
   "execution_count": 3,
   "id": "931c9b81-315a-49d9-89ca-d4e9a44d2ae8",
   "metadata": {},
   "outputs": [
    {
     "data": {
      "text/plain": [
       "array([[ 2,  7, 12],\n",
       "       [ 4,  9, 14]])"
      ]
     },
     "execution_count": 3,
     "metadata": {},
     "output_type": "execute_result"
    }
   ],
   "source": [
    "# A2\n",
    "arr2 = arr[1:4][0:3:2]\n",
    "arr2"
   ]
  },
  {
   "cell_type": "code",
   "execution_count": 4,
   "id": "fe5ed2e3-832a-41d3-8284-dba4b0242335",
   "metadata": {},
   "outputs": [
    {
     "data": {
      "text/plain": [
       "array([[1., 1., 1., 1., 1.],\n",
       "       [1., 0., 0., 0., 1.],\n",
       "       [1., 0., 0., 0., 1.],\n",
       "       [1., 0., 0., 0., 1.],\n",
       "       [1., 1., 1., 1., 1.]])"
      ]
     },
     "execution_count": 4,
     "metadata": {},
     "output_type": "execute_result"
    }
   ],
   "source": [
    "# B\n",
    "arr3 = np.ones(25).reshape(5,5)\n",
    "arr3[1:-1,1:-1] = 0\n",
    "arr3"
   ]
  },
  {
   "cell_type": "code",
   "execution_count": 5,
   "id": "88ad1abb-939a-4588-b462-0ccea6ee83fa",
   "metadata": {},
   "outputs": [],
   "source": [
    "def standard_deviation(a):\n",
    "    a_average = np.average(a)\n",
    "    a_sum_over_squares = np.sum((a-a_average)**2)\n",
    "    a_sos_norm = a_sum_over_squares/a.size\n",
    "    std = np.sqrt(a_sos_norm)\n",
    "    return std"
   ]
  },
  {
   "cell_type": "code",
   "execution_count": 6,
   "id": "1f7c0f3a-d7fe-408a-a205-ee18e39071eb",
   "metadata": {},
   "outputs": [],
   "source": [
    "a = np.arange(200_000_000)"
   ]
  },
  {
   "cell_type": "code",
   "execution_count": 7,
   "id": "e369154d-8bc9-4c6c-8eb4-6d2614912e62",
   "metadata": {},
   "outputs": [
    {
     "name": "stdout",
     "output_type": "stream",
     "text": [
      "sigma = 57735026.918975495, time elapsed: 12.822670459747314\n"
     ]
    }
   ],
   "source": [
    "t0 = time()\n",
    "sigma = standard_deviation(a)\n",
    "t1 = time()\n",
    "\n",
    "print(f\"sigma = {sigma}, time elapsed: {t1-t0}\")"
   ]
  },
  {
   "cell_type": "code",
   "execution_count": 8,
   "id": "d2e315fe-bfc5-4de8-a938-18f5495a41f1",
   "metadata": {},
   "outputs": [
    {
     "name": "stdout",
     "output_type": "stream",
     "text": [
      "sigma (numpy) = 57735026.918975495, time elapsed: 4.908119201660156\n"
     ]
    }
   ],
   "source": [
    "t2 = time()\n",
    "sigma_np = np.std(a)\n",
    "t3 = time()\n",
    "\n",
    "print(f\"sigma (numpy) = {sigma_np}, time elapsed: {t3-t2}\")"
   ]
  },
  {
   "cell_type": "code",
   "execution_count": null,
   "id": "5801af87-f9d6-41d8-9fd4-95c083904730",
   "metadata": {},
   "outputs": [],
   "source": []
  },
  {
   "cell_type": "code",
   "execution_count": 9,
   "id": "9597b2cd-9a36-43fc-a264-528b5d1dd064",
   "metadata": {},
   "outputs": [
    {
     "data": {
      "text/plain": [
       "(array([ 1,  3,  5,  7,  9, 11, 13, 15, 17]),\n",
       " array([ 0,  2,  4,  6,  8, 10, 12, 14, 16]))"
      ]
     },
     "execution_count": 9,
     "metadata": {},
     "output_type": "execute_result"
    }
   ],
   "source": [
    "A = np.arange(1,19,2)#.reshape(3,3)\n",
    "B = np.arange(0,18,2)#.reshape(3,3)\n",
    "\n",
    "A, B"
   ]
  },
  {
   "cell_type": "code",
   "execution_count": 10,
   "id": "1070d042-e8cc-4345-8757-1977733dcb0a",
   "metadata": {},
   "outputs": [
    {
     "data": {
      "text/plain": [
       "(888, 888)"
      ]
     },
     "execution_count": 10,
     "metadata": {},
     "output_type": "execute_result"
    }
   ],
   "source": [
    "A_inner_B_np = np.inner(A,B)\n",
    "A_inner_B = np.einsum('i,i',A,B)\n",
    "\n",
    "A_inner_B_np, A_inner_B"
   ]
  },
  {
   "cell_type": "code",
   "execution_count": 11,
   "id": "84d3e814-46cc-4e43-b173-b513b1356496",
   "metadata": {},
   "outputs": [
    {
     "data": {
      "text/plain": [
       "(array([[ 1,  3,  5],\n",
       "        [ 7,  9, 11],\n",
       "        [13, 15, 17]]),\n",
       " array([[ 0,  2,  4],\n",
       "        [ 6,  8, 10],\n",
       "        [12, 14, 16]]))"
      ]
     },
     "execution_count": 11,
     "metadata": {},
     "output_type": "execute_result"
    }
   ],
   "source": [
    "C = np.arange(1,19,2).reshape(3,3)\n",
    "D = np.arange(0,18,2).reshape(3,3)\n",
    "\n",
    "C, D"
   ]
  },
  {
   "cell_type": "code",
   "execution_count": 12,
   "id": "7e4558da-340b-47b1-8ec8-f374e699217a",
   "metadata": {},
   "outputs": [
    {
     "data": {
      "text/plain": [
       "array([[  0,   6,  20],\n",
       "       [ 42,  72, 110],\n",
       "       [156, 210, 272]])"
      ]
     },
     "execution_count": 12,
     "metadata": {},
     "output_type": "execute_result"
    }
   ],
   "source": [
    "# element-wise multiplication\n",
    "np.einsum('ij,ij->ij',C,D)"
   ]
  },
  {
   "cell_type": "markdown",
   "id": "a35d43a5-49b0-4928-a284-0dc9668cf200",
   "metadata": {},
   "source": [
    "### Q6 : Conway's Game of Life"
   ]
  },
  {
   "cell_type": "code",
   "execution_count": 26,
   "id": "c4597cff-bdd7-488c-9e87-8082e4f55d7d",
   "metadata": {},
   "outputs": [],
   "source": [
    "grid_size = 400\n",
    "grid_shape = (20,20)\n",
    "max_num_gens = 1000"
   ]
  },
  {
   "cell_type": "code",
   "execution_count": 27,
   "id": "a0f9aff9-c96b-498d-938a-4035c19c5fe5",
   "metadata": {},
   "outputs": [],
   "source": [
    "rng = np.random.default_rng(1984)\n",
    "\n",
    "# initial conditions\n",
    "grid = np.zeros(grid_size, dtype=int).reshape(grid_shape)\n",
    "grid[1:-1,1:-1] = rng.integers(low=0, high=2, size=(18, 18))\n",
    "\n",
    "#print(grid)"
   ]
  },
  {
   "cell_type": "code",
   "execution_count": 28,
   "id": "deb4899a-a2a5-4d68-80d4-3db90361c30d",
   "metadata": {},
   "outputs": [],
   "source": [
    "# routine for one step of evolution\n",
    "def gol_step(grid):\n",
    "    # exclude boundary from computation\n",
    "    table = grid[1:-1, 1:-1]\n",
    "\n",
    "    # compute number of live neighbours\n",
    "    up_count = grid[:-2, :-2] + grid[:-2, 1:-1] + grid[:-2, 2:]\n",
    "    down_count = grid[2:, :-2] + grid[2:, 1:-1] + grid[2:, 2:]\n",
    "    side_count = grid[1:-1, :-2] + grid[1:-1, 2:]\n",
    "    neigh_live_count = up_count + down_count + side_count\n",
    "    \n",
    "    # gol rules application\n",
    "    stay_alive = (table == 1) & ((neigh_live_count == 2) | (neigh_live_count == 3))\n",
    "    come_alive = (table == 0) & (neigh_live_count == 3)\n",
    "    new_table = (stay_alive | come_alive).astype(int)\n",
    "\n",
    "    # result of single step evolution\n",
    "    grid[1:-1, 1:-1] = new_table\n",
    "\n",
    "    return grid"
   ]
  },
  {
   "cell_type": "code",
   "execution_count": 29,
   "id": "68d62212-5919-483b-90a1-b54546b0bdf4",
   "metadata": {},
   "outputs": [
    {
     "data": {
      "text/plain": [
       "array([[0, 0, 0, 0, 0, 0, 0, 0, 0, 0, 0, 0, 0, 0, 0, 0, 0, 0, 0, 0],\n",
       "       [0, 0, 0, 1, 0, 0, 1, 1, 0, 0, 1, 1, 1, 1, 1, 0, 0, 0, 0, 0],\n",
       "       [0, 1, 1, 0, 0, 1, 1, 1, 1, 0, 0, 0, 0, 0, 1, 1, 1, 1, 0, 0],\n",
       "       [0, 1, 1, 0, 1, 0, 0, 0, 0, 0, 0, 0, 0, 0, 0, 1, 0, 0, 1, 0],\n",
       "       [0, 1, 1, 0, 1, 1, 0, 0, 1, 1, 1, 1, 0, 0, 0, 1, 1, 0, 1, 0],\n",
       "       [0, 1, 1, 0, 1, 0, 1, 1, 0, 0, 1, 0, 0, 0, 0, 1, 1, 1, 0, 0],\n",
       "       [0, 1, 0, 1, 0, 1, 1, 0, 1, 1, 1, 1, 0, 0, 1, 1, 1, 1, 0, 0],\n",
       "       [0, 1, 1, 1, 1, 0, 0, 0, 1, 1, 1, 0, 1, 1, 1, 0, 0, 0, 1, 0],\n",
       "       [0, 1, 0, 1, 1, 1, 1, 0, 0, 0, 1, 1, 0, 1, 0, 0, 0, 1, 0, 0],\n",
       "       [0, 1, 1, 1, 0, 0, 1, 0, 0, 1, 1, 1, 1, 1, 0, 1, 1, 0, 0, 0],\n",
       "       [0, 1, 1, 1, 0, 0, 1, 1, 0, 1, 0, 0, 1, 0, 1, 0, 0, 1, 1, 0],\n",
       "       [0, 0, 1, 1, 1, 0, 0, 0, 0, 0, 0, 0, 0, 0, 1, 1, 0, 0, 1, 0],\n",
       "       [0, 1, 1, 1, 1, 0, 0, 1, 0, 1, 1, 0, 1, 0, 1, 0, 1, 0, 1, 0],\n",
       "       [0, 0, 0, 0, 0, 0, 0, 0, 0, 0, 1, 0, 0, 0, 1, 1, 0, 0, 0, 0],\n",
       "       [0, 1, 0, 1, 0, 1, 0, 1, 1, 0, 0, 1, 1, 0, 1, 1, 1, 0, 0, 0],\n",
       "       [0, 0, 0, 0, 0, 0, 1, 1, 0, 1, 1, 0, 0, 0, 0, 0, 1, 1, 0, 0],\n",
       "       [0, 0, 0, 0, 0, 0, 0, 1, 1, 1, 0, 0, 1, 1, 1, 0, 1, 0, 1, 0],\n",
       "       [0, 0, 0, 0, 1, 1, 0, 0, 0, 1, 1, 0, 0, 0, 0, 1, 0, 0, 1, 0],\n",
       "       [0, 1, 1, 1, 0, 1, 0, 0, 0, 1, 1, 0, 1, 1, 1, 1, 0, 1, 1, 0],\n",
       "       [0, 0, 0, 0, 0, 0, 0, 0, 0, 0, 0, 0, 0, 0, 0, 0, 0, 0, 0, 0]])"
      ]
     },
     "execution_count": 29,
     "metadata": {},
     "output_type": "execute_result"
    }
   ],
   "source": [
    "grid"
   ]
  },
  {
   "cell_type": "code",
   "execution_count": 30,
   "id": "66005323-5fcc-423a-90d9-dbda6f63575d",
   "metadata": {},
   "outputs": [
    {
     "data": {
      "text/plain": [
       "array([[0, 0, 0, 0, 0, 0, 0, 0, 0, 0, 0, 0, 0, 0, 0, 0, 0, 0, 0, 0],\n",
       "       [0, 0, 1, 0, 0, 1, 0, 0, 1, 0, 0, 1, 1, 1, 1, 0, 1, 0, 0, 0],\n",
       "       [0, 1, 0, 0, 1, 1, 0, 0, 1, 0, 0, 1, 1, 0, 0, 0, 1, 1, 0, 0],\n",
       "       [0, 0, 0, 0, 1, 0, 0, 0, 0, 0, 1, 0, 0, 0, 0, 0, 0, 0, 1, 0],\n",
       "       [0, 0, 0, 0, 1, 0, 1, 1, 1, 1, 1, 1, 0, 0, 1, 0, 0, 0, 1, 0],\n",
       "       [0, 0, 0, 0, 0, 0, 0, 0, 0, 0, 0, 0, 0, 0, 0, 0, 0, 0, 1, 0],\n",
       "       [0, 0, 0, 0, 0, 0, 1, 0, 0, 0, 0, 0, 1, 0, 0, 0, 0, 0, 1, 0],\n",
       "       [0, 1, 0, 0, 0, 0, 0, 0, 1, 0, 0, 0, 0, 0, 0, 0, 0, 0, 1, 0],\n",
       "       [0, 0, 0, 0, 0, 0, 1, 1, 1, 0, 0, 0, 0, 0, 0, 1, 1, 1, 0, 0],\n",
       "       [0, 0, 0, 0, 0, 0, 0, 0, 1, 1, 0, 0, 0, 0, 0, 1, 1, 0, 1, 0],\n",
       "       [0, 0, 0, 0, 0, 1, 1, 1, 1, 1, 0, 0, 1, 0, 0, 0, 0, 1, 1, 0],\n",
       "       [0, 0, 0, 0, 0, 1, 1, 1, 0, 1, 1, 1, 0, 0, 1, 0, 1, 0, 1, 0],\n",
       "       [0, 1, 0, 0, 1, 0, 0, 0, 0, 1, 1, 1, 0, 0, 0, 0, 1, 1, 0, 0],\n",
       "       [0, 1, 0, 0, 0, 0, 1, 1, 0, 0, 1, 0, 1, 0, 0, 0, 0, 1, 0, 0],\n",
       "       [0, 0, 0, 0, 0, 0, 0, 1, 1, 0, 0, 1, 0, 1, 1, 0, 0, 1, 0, 0],\n",
       "       [0, 0, 0, 0, 0, 0, 0, 0, 0, 0, 1, 0, 0, 0, 0, 0, 0, 0, 0, 0],\n",
       "       [0, 0, 0, 0, 0, 1, 0, 1, 0, 0, 0, 1, 0, 1, 1, 0, 1, 0, 1, 0],\n",
       "       [0, 0, 1, 1, 1, 1, 1, 0, 0, 0, 0, 0, 0, 0, 0, 0, 0, 0, 1, 0],\n",
       "       [0, 0, 1, 1, 0, 1, 0, 0, 0, 1, 1, 1, 0, 1, 1, 1, 1, 1, 1, 0],\n",
       "       [0, 0, 0, 0, 0, 0, 0, 0, 0, 0, 0, 0, 0, 0, 0, 0, 0, 0, 0, 0]])"
      ]
     },
     "execution_count": 30,
     "metadata": {},
     "output_type": "execute_result"
    }
   ],
   "source": [
    "gol_step(grid)"
   ]
  }
 ],
 "metadata": {
  "kernelspec": {
   "display_name": "Python 3 (ipykernel)",
   "language": "python",
   "name": "python3"
  },
  "language_info": {
   "codemirror_mode": {
    "name": "ipython",
    "version": 3
   },
   "file_extension": ".py",
   "mimetype": "text/x-python",
   "name": "python",
   "nbconvert_exporter": "python",
   "pygments_lexer": "ipython3",
   "version": "3.12.7"
  }
 },
 "nbformat": 4,
 "nbformat_minor": 5
}
